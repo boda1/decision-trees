{
 "cells": [
  {
   "cell_type": "code",
   "execution_count": 4,
   "id": "4274a477-59db-4222-8985-9065e66c7424",
   "metadata": {},
   "outputs": [],
   "source": [
    "import sys\n",
    "import os\n",
    "\n",
    "# Add the project root directory to sys.path\n",
    "project_root = os.path.abspath(os.path.join(os.getcwd(), \"/Users/adamboda/Documents/python/decision-trees\"))  # Adjust as needed\n",
    "if project_root not in sys.path:\n",
    "    sys.path.append(project_root)"
   ]
  },
  {
   "cell_type": "code",
   "execution_count": 5,
   "id": "9293049d-0b6c-4c80-8bb9-b4ede9878865",
   "metadata": {},
   "outputs": [
    {
     "ename": "ModuleNotFoundError",
     "evalue": "No module named 'decision_tree.decision_tree'; 'decision_tree' is not a package",
     "output_type": "error",
     "traceback": [
      "\u001b[0;31m---------------------------------------------------------------------------\u001b[0m",
      "\u001b[0;31mModuleNotFoundError\u001b[0m                       Traceback (most recent call last)",
      "Cell \u001b[0;32mIn[5], line 3\u001b[0m\n\u001b[1;32m      1\u001b[0m \u001b[38;5;28;01mimport\u001b[39;00m\u001b[38;5;250m \u001b[39m\u001b[38;5;21;01mpandas\u001b[39;00m\u001b[38;5;250m \u001b[39m\u001b[38;5;28;01mas\u001b[39;00m\u001b[38;5;250m \u001b[39m\u001b[38;5;21;01mpd\u001b[39;00m\n\u001b[1;32m      2\u001b[0m \u001b[38;5;28;01mimport\u001b[39;00m\u001b[38;5;250m \u001b[39m\u001b[38;5;21;01mnumpy\u001b[39;00m\u001b[38;5;250m \u001b[39m\u001b[38;5;28;01mas\u001b[39;00m\u001b[38;5;250m \u001b[39m\u001b[38;5;21;01mnp\u001b[39;00m\n\u001b[0;32m----> 3\u001b[0m \u001b[38;5;28;01mfrom\u001b[39;00m\u001b[38;5;250m \u001b[39m\u001b[38;5;21;01mdecision_tree\u001b[39;00m\u001b[38;5;21;01m.\u001b[39;00m\u001b[38;5;21;01mdecision_tree\u001b[39;00m\u001b[38;5;250m \u001b[39m\u001b[38;5;28;01mimport\u001b[39;00m DecisionTree\n",
      "\u001b[0;31mModuleNotFoundError\u001b[0m: No module named 'decision_tree.decision_tree'; 'decision_tree' is not a package"
     ]
    }
   ],
   "source": [
    "import pandas as pd\n",
    "import numpy as np\n",
    "from decision_tree.decision_tree import DecisionTree"
   ]
  },
  {
   "cell_type": "code",
   "execution_count": 27,
   "id": "bccd459e-3672-4ccf-8972-02336fd18527",
   "metadata": {},
   "outputs": [],
   "source": [
    "class RandomForestClassifier():\n",
    "    \"\"\"\n",
    "    Docstring\n",
    "    \"\"\"\n",
    "\n",
    "    def __init__(self, \n",
    "                 max_depth: int,\n",
    "                 min_information_gain: float,\n",
    "                 min_samples_per_leaf: int,\n",
    "                 feature_selection: str,\n",
    "                 n_learners: int,\n",
    "                 bootstrap_sample_size: int,\n",
    "                 bootstrap: bool,\n",
    "                 oob_score: bool\n",
    "                ):\n",
    "        self.max_depth = max_depth\n",
    "        self.min_information_gain = min_information_gain\n",
    "        self.min_samples_per_leaf = min_samples_per_leaf\n",
    "        self.feature_selection = feature_selection\n",
    "        self.n_learners = n_learners\n",
    "        self.bootstrap_sample_size = bootstrap_sample_size\n",
    "        self.bootstrap = bootstrap\n",
    "        self.oob_score = oob_score\n",
    "        self.trained_base_learners = None\n",
    "\n",
    "    def create_bootstrap_data(self, X: pd.DataFrame, Y: pd.DataFrame) -> list: # ToDo: Check whether df or series\n",
    "        bootstrap_samples_X = []\n",
    "        bootstrap_samples_Y = []\n",
    "        \n",
    "        for idx in range(self.n_learners):\n",
    "            sample_row_idx = np.random.choice(data.shape[0], size=self.bootstrap_sample_size, replace=True)\n",
    "            bootstrap_samples_X.append(X.iloc[sample_row_idx, :])\n",
    "            bootstrap_samples_Y.append(Y.iloc[sample_row_idx, :])\n",
    "\n",
    "        return bootstrap_samples_X, bootstrap_samples_Y\n",
    "    \n",
    "    def train(self, train_X: pd.DataFrame, train_Y: pd.DataFrame) -> None:\n",
    "        \"\"\"\n",
    "        Training a decision tree for every bootstrapped sample and storing in trained_base_learners attribute\n",
    "        \"\"\"\n",
    "    \n",
    "        bootstrap_samples_X, bootstrap_samples_Y = create_bootstrap_data(train_X, train_Y)\n",
    "        \n",
    "        for idx, _ in enumerate(bootstrap_samples_X):\n",
    "            base_learner = DecisionTree(self.max_depth, self.min_information_gain, self.min_samples_per_leaf, self.feature_selection, self.tree)\n",
    "            base_learner.train(bootstrap_samples_X[idx], bootstrap_samples_Y[idx])\n",
    "            self.trained_base_learners.append(base_learner)\n",
    "    \n",
    "    def predict_one_sample(self, row_data: pd.Series):\n",
    "        predictions = []\n",
    "        \n",
    "        for base_learner in self.trained_base_learners:\n",
    "            predicted_probabilities = base_learner.predict_prob_all_samples(row_data)\n",
    "            predictions.append(prediction)\n",
    "\n",
    "        return np.mean(predictions)\n",
    "        \n",
    "    def predict(self, data: pd.DataFrame) -> pd.DataFrame:\n",
    "        return data.apply(predict_one_sample, axis=1)\n"
   ]
  },
  {
   "cell_type": "code",
   "execution_count": 28,
   "id": "1ced4ab6-4cef-4217-ac50-be5afc31bf5d",
   "metadata": {},
   "outputs": [],
   "source": [
    "classifier = RandomForestClassifier(max_depth=15, min_information_gain=0.000001, min_samples_per_leaf=5, feature_selection='log', n_learners=10, bootstrap_sample_size=100, bootstrap=True, oob_score=True)"
   ]
  },
  {
   "cell_type": "code",
   "execution_count": 1,
   "id": "6333cf6d-1647-4720-aabb-594de605805e",
   "metadata": {},
   "outputs": [
    {
     "ename": "NameError",
     "evalue": "name 'pd' is not defined",
     "output_type": "error",
     "traceback": [
      "\u001b[0;31m---------------------------------------------------------------------------\u001b[0m",
      "\u001b[0;31mNameError\u001b[0m                                 Traceback (most recent call last)",
      "Cell \u001b[0;32mIn[1], line 1\u001b[0m\n\u001b[0;32m----> 1\u001b[0m train_data \u001b[38;5;241m=\u001b[39m pd\u001b[38;5;241m.\u001b[39mread_csv(\u001b[38;5;124m'\u001b[39m\u001b[38;5;124m./train.csv\u001b[39m\u001b[38;5;124m'\u001b[39m)\u001b[38;5;241m.\u001b[39mastype({\n\u001b[1;32m      2\u001b[0m     \u001b[38;5;124m'\u001b[39m\u001b[38;5;124mPassengerId\u001b[39m\u001b[38;5;124m'\u001b[39m: \u001b[38;5;28mint\u001b[39m,\n\u001b[1;32m      3\u001b[0m     \u001b[38;5;124m'\u001b[39m\u001b[38;5;124mSurvived\u001b[39m\u001b[38;5;124m'\u001b[39m: \u001b[38;5;28mint\u001b[39m,\n\u001b[1;32m      4\u001b[0m     \u001b[38;5;124m'\u001b[39m\u001b[38;5;124mPclass\u001b[39m\u001b[38;5;124m'\u001b[39m: \u001b[38;5;28mint\u001b[39m,\n\u001b[1;32m      5\u001b[0m     \u001b[38;5;124m'\u001b[39m\u001b[38;5;124mAge\u001b[39m\u001b[38;5;124m'\u001b[39m: \u001b[38;5;28mfloat\u001b[39m,\n\u001b[1;32m      6\u001b[0m     \u001b[38;5;124m'\u001b[39m\u001b[38;5;124mSibSp\u001b[39m\u001b[38;5;124m'\u001b[39m: \u001b[38;5;28mint\u001b[39m,\n\u001b[1;32m      7\u001b[0m     \u001b[38;5;124m'\u001b[39m\u001b[38;5;124mParch\u001b[39m\u001b[38;5;124m'\u001b[39m: \u001b[38;5;28mint\u001b[39m,\n\u001b[1;32m      8\u001b[0m     \u001b[38;5;124m'\u001b[39m\u001b[38;5;124mFare\u001b[39m\u001b[38;5;124m'\u001b[39m: \u001b[38;5;28mfloat\u001b[39m\n\u001b[1;32m      9\u001b[0m })\n\u001b[1;32m     11\u001b[0m X_train \u001b[38;5;241m=\u001b[39m train_data\u001b[38;5;241m.\u001b[39mloc[:, \u001b[38;5;241m~\u001b[39mtrain_data\u001b[38;5;241m.\u001b[39mcolumns\u001b[38;5;241m.\u001b[39misin([\u001b[38;5;124m\"\u001b[39m\u001b[38;5;124mSurvived\u001b[39m\u001b[38;5;124m\"\u001b[39m, \u001b[38;5;124m\"\u001b[39m\u001b[38;5;124mName\u001b[39m\u001b[38;5;124m\"\u001b[39m, \u001b[38;5;124m\"\u001b[39m\u001b[38;5;124mSex\u001b[39m\u001b[38;5;124m\"\u001b[39m, \u001b[38;5;124m\"\u001b[39m\u001b[38;5;124mTicket\u001b[39m\u001b[38;5;124m\"\u001b[39m, \u001b[38;5;124m\"\u001b[39m\u001b[38;5;124mCabin\u001b[39m\u001b[38;5;124m\"\u001b[39m, \u001b[38;5;124m\"\u001b[39m\u001b[38;5;124mEmbarked\u001b[39m\u001b[38;5;124m\"\u001b[39m])]\n\u001b[1;32m     12\u001b[0m Y_train \u001b[38;5;241m=\u001b[39m train_data\u001b[38;5;241m.\u001b[39mloc[:, train_data\u001b[38;5;241m.\u001b[39mcolumns \u001b[38;5;241m==\u001b[39m \u001b[38;5;124m\"\u001b[39m\u001b[38;5;124mSurvived\u001b[39m\u001b[38;5;124m\"\u001b[39m]\n",
      "\u001b[0;31mNameError\u001b[0m: name 'pd' is not defined"
     ]
    }
   ],
   "source": [
    "train_data = pd.read_csv('./train.csv').astype({\n",
    "    'PassengerId': int,\n",
    "    'Survived': int,\n",
    "    'Pclass': int,\n",
    "    'Age': float,\n",
    "    'SibSp': int,\n",
    "    'Parch': int,\n",
    "    'Fare': float\n",
    "})\n",
    "\n",
    "X_train = train_data.loc[:, ~train_data.columns.isin([\"Survived\", \"Name\", \"Sex\", \"Ticket\", \"Cabin\", \"Embarked\"])]\n",
    "Y_train = train_data.loc[:, train_data.columns == \"Survived\"]\n",
    "\n",
    "X_train.shape, Y_train.shape"
   ]
  },
  {
   "cell_type": "code",
   "execution_count": null,
   "id": "26b0ad2c-a7ee-4418-b5e3-a165eb8b7350",
   "metadata": {},
   "outputs": [],
   "source": [
    "(n_estimators=100, *, criterion='gini', max_depth=None, min_samples_split=2, min_samples_leaf=1, min_weight_fraction_leaf=0.0, max_features='sqrt', max_leaf_nodes=None, min_impurity_decrease=0.0, bootstrap=True, oob_score=False, n_jobs=None, random_state=None, verbose=0, warm_start=False, class_weight=None, ccp_alpha=0.0, max_samples=None, monotonic_cst=None)"
   ]
  },
  {
   "cell_type": "markdown",
   "id": "4ebbca9c-af48-48cc-bc79-050b3c24afe3",
   "metadata": {},
   "source": [
    "Training\n",
    "* Create bootstrapped data sets using sampling with replacement\n",
    "* Select a random sample of features (using decision tree's existing log/sqrt feature selection)\n",
    "* Train a decision tree on each bootstrapped data set\n",
    "\n",
    "Predicting\n",
    "* Use the same predict function which now uses 'random forest' trees\n",
    "* Predict one sample by running the row through every decision tree\n",
    "* And selecting the most common prediction\n",
    "* Then run prediction for all rows"
   ]
  }
 ],
 "metadata": {
  "kernelspec": {
   "display_name": "Python 3 (ipykernel)",
   "language": "python",
   "name": "python3"
  },
  "language_info": {
   "codemirror_mode": {
    "name": "ipython",
    "version": 3
   },
   "file_extension": ".py",
   "mimetype": "text/x-python",
   "name": "python",
   "nbconvert_exporter": "python",
   "pygments_lexer": "ipython3",
   "version": "3.11.7"
  }
 },
 "nbformat": 4,
 "nbformat_minor": 5
}
